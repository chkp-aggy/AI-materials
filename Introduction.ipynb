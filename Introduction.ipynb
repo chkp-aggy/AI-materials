{
 "cells": [
  {
   "cell_type": "markdown",
   "metadata": {},
   "source": [
    "## Cloud Security R&D AI Hackathon"
   ]
  },
  {
   "cell_type": "markdown",
   "metadata": {},
   "source": [
    "### Welcome!\n",
    "\n",
    "This is an introductory notebook\n",
    "\n",
    "The purpose of this notebook is to provide a first easy step with using GenAI\n",
    "\n",
    "* Using Notebooks for demonstration and early stages of development can be easier\n",
    "* For bigger projects we encourage using regular `.py` files"
   ]
  },
  {
   "cell_type": "markdown",
   "metadata": {},
   "source": [
    "### Environment\n",
    "You will need to set your environment in order to start using GenAI tools like GPT.\n",
    "\n",
    "This mainly includes a few steps, further detailed below\n",
    "* Creating a virtual environment (optional)\n",
    "* Installing dependencies\n",
    "* Setting up Envrironment Variables\n"
   ]
  },
  {
   "cell_type": "markdown",
   "metadata": {},
   "source": [
    "#### Dependencies\n",
    "* You might need to install dependencies.\n",
    "* For such cases consider using a virtual environment. \n",
    "* You can install dependencies directly from a Jupyter Notebook using `!pip install openai`"
   ]
  },
  {
   "cell_type": "markdown",
   "metadata": {},
   "source": [
    "#### OpenAI API key\n",
    "* First, you will need to get an API Key.\n",
    "* For the Hackathon, we supply each team with an API.\n",
    "* You can find the API key in the Wiki page (linked in the last cell of this Notebook)\n",
    "* Watch out - these keys have limits, don't massivly use them or you'll hit your limits!\n",
    "\n",
    "#### Sensitive information in your code\n",
    "* Hard-coding API keys is tempting, but creates problems when sharing the project.\n",
    "* In this Notebook we will hard-code these values anyway.\n",
    "* For a better, more secure approach, see the equivallent `gpt_query.py` module\n",
    "\n",
    "### Environment Variables\n",
    "You'll need to define two environment variables: `API_KEY` and `ENDPOINT`\n",
    "You can do so by explicitly defining constants like the cell below\n",
    "A better approach would be to set these values use `python-dotenv` to "
   ]
  },
  {
   "cell_type": "code",
   "execution_count": null,
   "metadata": {},
   "outputs": [],
   "source": [
    "API_KEY = \"<openai_API_key>\"\n",
    "ENDPOINT = \"https://staging-dev-openai.azure-api.net/openai-gw-proxy-dev\""
   ]
  },
  {
   "cell_type": "code",
   "execution_count": 1,
   "metadata": {},
   "outputs": [
    {
     "name": "stdout",
     "output_type": "stream",
     "text": [
      "10 times 10 is equal to 100.\n"
     ]
    }
   ],
   "source": [
    "from openai import AzureOpenAI\n",
    " \n",
    "client = AzureOpenAI(azure_endpoint=ENDPOINT, api_key=API_KEY, api_version=\"2023-07-01-preview\")\n",
    "res = client.chat.completions.create(\n",
    "    model=\"gpt-35-turbo\", messages=[{\"role\": \"user\", \"content\": \"What is 10 times 10\"}]\n",
    ")\n",
    " \n",
    "print(res.choices[0].message.content)"
   ]
  },
  {
   "cell_type": "code",
   "execution_count": 1,
   "metadata": {},
   "outputs": [
    {
     "name": "stdout",
     "output_type": "stream",
     "text": [
      "hello\n"
     ]
    }
   ],
   "source": [
    "print('hello')"
   ]
  },
  {
   "cell_type": "markdown",
   "metadata": {},
   "source": [
    "## Resources\n",
    "* [Hackathon main wiki page](https://wiki.checkpoint.com/confluence/pages/viewpage.action?pageId=554281566)\n",
    "* [API keys for Hackathon](https://wiki.checkpoint.com/confluence/pages/viewpage.action?pageId=554281566#CloudSecurityR&DAIHackathon-AI_ENVIRONMENT)"
   ]
  },
  {
   "cell_type": "markdown",
   "metadata": {},
   "source": []
  }
 ],
 "metadata": {
  "kernelspec": {
   "display_name": "Python 3",
   "language": "python",
   "name": "python3"
  },
  "language_info": {
   "codemirror_mode": {
    "name": "ipython",
    "version": 3
   },
   "file_extension": ".py",
   "mimetype": "text/x-python",
   "name": "python",
   "nbconvert_exporter": "python",
   "pygments_lexer": "ipython3",
   "version": "3.10.11"
  }
 },
 "nbformat": 4,
 "nbformat_minor": 2
}
